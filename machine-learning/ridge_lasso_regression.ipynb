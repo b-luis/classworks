{
  "nbformat": 4,
  "nbformat_minor": 0,
  "metadata": {
    "colab": {
      "provenance": [],
      "collapsed_sections": []
    },
    "kernelspec": {
      "name": "python3",
      "display_name": "Python 3"
    },
    "language_info": {
      "name": "python"
    }
  },
  "cells": [
    {
      "cell_type": "code",
      "execution_count": null,
      "metadata": {
        "id": "AIlzWJ65hR5W",
        "colab": {
          "base_uri": "https://localhost:8080/"
        },
        "outputId": "22014244-d377-4903-855e-4d45d49e7e0a"
      },
      "outputs": [
        {
          "output_type": "stream",
          "name": "stdout",
          "text": [
            "Mounted at /content/drive\n"
          ]
        }
      ],
      "source": [
        "from google.colab import drive\n",
        "drive.mount('/content/drive', force_remount=True)"
      ]
    },
    {
      "cell_type": "markdown",
      "source": [
        "***Step 1.*** *Import the required libraries.*"
      ],
      "metadata": {
        "id": "KQ1jwV7MsOSr"
      }
    },
    {
      "cell_type": "code",
      "source": [
        "# Data Visualization\n",
        "import pandas as pd\n",
        "import numpy as np\n",
        "import seaborn as sns\n",
        "import pandas_profiling as pp\n",
        "import matplotlib.pyplot as plt\n",
        "%matplotlib inline\n",
        "sns.set(style=\"whitegrid\")\n",
        "\n",
        "# Model\n",
        "import imblearn\n",
        "from sklearn import metrics\n",
        "from collections import Counter\n",
        "from imblearn.over_sampling import SMOTE\n",
        "from sklearn.feature_selection import chi2\n",
        "from scipy.stats import ttest_1samp, ttest_ind\n",
        "from sklearn.preprocessing import StandardScaler, LabelEncoder\n",
        "from sklearn.linear_model import LinearRegression, Lasso, Ridge\n",
        "from sklearn.model_selection import cross_validate, cross_val_score, train_test_split, GridSearchCV\n",
        "\n",
        "# Metrics\n",
        "import statsmodels.api as sm\n",
        "import scipy.stats as st\n",
        "from scipy.stats import chi2_contingency\n",
        "from sklearn.metrics import r2_score, mean_squared_error"
      ],
      "metadata": {
        "id": "DXXCCiB5hZFS"
      },
      "execution_count": null,
      "outputs": []
    },
    {
      "cell_type": "markdown",
      "source": [
        "***Step 2.*** *Load the dataset.*"
      ],
      "metadata": {
        "id": "Z35Ee25DtMU3"
      }
    },
    {
      "cell_type": "code",
      "source": [
        "wine_data = pd.read_csv('drive/My Drive/Colab Notebooks/csv_dataset/winequality-red.csv')\n",
        "wine_data.head()"
      ],
      "metadata": {
        "id": "gCNTg8R9kyqm",
        "colab": {
          "base_uri": "https://localhost:8080/",
          "height": 206
        },
        "outputId": "a9521638-be7b-40eb-ed20-073bf6f017ca"
      },
      "execution_count": null,
      "outputs": [
        {
          "output_type": "execute_result",
          "data": {
            "text/plain": [
              "   fixed acidity  volatile acidity  citric acid  residual sugar  chlorides  \\\n",
              "0            7.4              0.70         0.00             1.9      0.076   \n",
              "1            7.8              0.88         0.00             2.6      0.098   \n",
              "2            7.8              0.76         0.04             2.3      0.092   \n",
              "3           11.2              0.28         0.56             1.9      0.075   \n",
              "4            7.4              0.70         0.00             1.9      0.076   \n",
              "\n",
              "   free sulfur dioxide  total sulfur dioxide  density    pH  sulphates  \\\n",
              "0                 11.0                  34.0   0.9978  3.51       0.56   \n",
              "1                 25.0                  67.0   0.9968  3.20       0.68   \n",
              "2                 15.0                  54.0   0.9970  3.26       0.65   \n",
              "3                 17.0                  60.0   0.9980  3.16       0.58   \n",
              "4                 11.0                  34.0   0.9978  3.51       0.56   \n",
              "\n",
              "   alcohol  quality  \n",
              "0      9.4        5  \n",
              "1      9.8        5  \n",
              "2      9.8        5  \n",
              "3      9.8        6  \n",
              "4      9.4        5  "
            ],
            "text/html": [
              "\n",
              "  <div id=\"df-f46b394b-8a4c-4910-90f0-120699c63460\">\n",
              "    <div class=\"colab-df-container\">\n",
              "      <div>\n",
              "<style scoped>\n",
              "    .dataframe tbody tr th:only-of-type {\n",
              "        vertical-align: middle;\n",
              "    }\n",
              "\n",
              "    .dataframe tbody tr th {\n",
              "        vertical-align: top;\n",
              "    }\n",
              "\n",
              "    .dataframe thead th {\n",
              "        text-align: right;\n",
              "    }\n",
              "</style>\n",
              "<table border=\"1\" class=\"dataframe\">\n",
              "  <thead>\n",
              "    <tr style=\"text-align: right;\">\n",
              "      <th></th>\n",
              "      <th>fixed acidity</th>\n",
              "      <th>volatile acidity</th>\n",
              "      <th>citric acid</th>\n",
              "      <th>residual sugar</th>\n",
              "      <th>chlorides</th>\n",
              "      <th>free sulfur dioxide</th>\n",
              "      <th>total sulfur dioxide</th>\n",
              "      <th>density</th>\n",
              "      <th>pH</th>\n",
              "      <th>sulphates</th>\n",
              "      <th>alcohol</th>\n",
              "      <th>quality</th>\n",
              "    </tr>\n",
              "  </thead>\n",
              "  <tbody>\n",
              "    <tr>\n",
              "      <th>0</th>\n",
              "      <td>7.4</td>\n",
              "      <td>0.70</td>\n",
              "      <td>0.00</td>\n",
              "      <td>1.9</td>\n",
              "      <td>0.076</td>\n",
              "      <td>11.0</td>\n",
              "      <td>34.0</td>\n",
              "      <td>0.9978</td>\n",
              "      <td>3.51</td>\n",
              "      <td>0.56</td>\n",
              "      <td>9.4</td>\n",
              "      <td>5</td>\n",
              "    </tr>\n",
              "    <tr>\n",
              "      <th>1</th>\n",
              "      <td>7.8</td>\n",
              "      <td>0.88</td>\n",
              "      <td>0.00</td>\n",
              "      <td>2.6</td>\n",
              "      <td>0.098</td>\n",
              "      <td>25.0</td>\n",
              "      <td>67.0</td>\n",
              "      <td>0.9968</td>\n",
              "      <td>3.20</td>\n",
              "      <td>0.68</td>\n",
              "      <td>9.8</td>\n",
              "      <td>5</td>\n",
              "    </tr>\n",
              "    <tr>\n",
              "      <th>2</th>\n",
              "      <td>7.8</td>\n",
              "      <td>0.76</td>\n",
              "      <td>0.04</td>\n",
              "      <td>2.3</td>\n",
              "      <td>0.092</td>\n",
              "      <td>15.0</td>\n",
              "      <td>54.0</td>\n",
              "      <td>0.9970</td>\n",
              "      <td>3.26</td>\n",
              "      <td>0.65</td>\n",
              "      <td>9.8</td>\n",
              "      <td>5</td>\n",
              "    </tr>\n",
              "    <tr>\n",
              "      <th>3</th>\n",
              "      <td>11.2</td>\n",
              "      <td>0.28</td>\n",
              "      <td>0.56</td>\n",
              "      <td>1.9</td>\n",
              "      <td>0.075</td>\n",
              "      <td>17.0</td>\n",
              "      <td>60.0</td>\n",
              "      <td>0.9980</td>\n",
              "      <td>3.16</td>\n",
              "      <td>0.58</td>\n",
              "      <td>9.8</td>\n",
              "      <td>6</td>\n",
              "    </tr>\n",
              "    <tr>\n",
              "      <th>4</th>\n",
              "      <td>7.4</td>\n",
              "      <td>0.70</td>\n",
              "      <td>0.00</td>\n",
              "      <td>1.9</td>\n",
              "      <td>0.076</td>\n",
              "      <td>11.0</td>\n",
              "      <td>34.0</td>\n",
              "      <td>0.9978</td>\n",
              "      <td>3.51</td>\n",
              "      <td>0.56</td>\n",
              "      <td>9.4</td>\n",
              "      <td>5</td>\n",
              "    </tr>\n",
              "  </tbody>\n",
              "</table>\n",
              "</div>\n",
              "      <button class=\"colab-df-convert\" onclick=\"convertToInteractive('df-f46b394b-8a4c-4910-90f0-120699c63460')\"\n",
              "              title=\"Convert this dataframe to an interactive table.\"\n",
              "              style=\"display:none;\">\n",
              "        \n",
              "  <svg xmlns=\"http://www.w3.org/2000/svg\" height=\"24px\"viewBox=\"0 0 24 24\"\n",
              "       width=\"24px\">\n",
              "    <path d=\"M0 0h24v24H0V0z\" fill=\"none\"/>\n",
              "    <path d=\"M18.56 5.44l.94 2.06.94-2.06 2.06-.94-2.06-.94-.94-2.06-.94 2.06-2.06.94zm-11 1L8.5 8.5l.94-2.06 2.06-.94-2.06-.94L8.5 2.5l-.94 2.06-2.06.94zm10 10l.94 2.06.94-2.06 2.06-.94-2.06-.94-.94-2.06-.94 2.06-2.06.94z\"/><path d=\"M17.41 7.96l-1.37-1.37c-.4-.4-.92-.59-1.43-.59-.52 0-1.04.2-1.43.59L10.3 9.45l-7.72 7.72c-.78.78-.78 2.05 0 2.83L4 21.41c.39.39.9.59 1.41.59.51 0 1.02-.2 1.41-.59l7.78-7.78 2.81-2.81c.8-.78.8-2.07 0-2.86zM5.41 20L4 18.59l7.72-7.72 1.47 1.35L5.41 20z\"/>\n",
              "  </svg>\n",
              "      </button>\n",
              "      \n",
              "  <style>\n",
              "    .colab-df-container {\n",
              "      display:flex;\n",
              "      flex-wrap:wrap;\n",
              "      gap: 12px;\n",
              "    }\n",
              "\n",
              "    .colab-df-convert {\n",
              "      background-color: #E8F0FE;\n",
              "      border: none;\n",
              "      border-radius: 50%;\n",
              "      cursor: pointer;\n",
              "      display: none;\n",
              "      fill: #1967D2;\n",
              "      height: 32px;\n",
              "      padding: 0 0 0 0;\n",
              "      width: 32px;\n",
              "    }\n",
              "\n",
              "    .colab-df-convert:hover {\n",
              "      background-color: #E2EBFA;\n",
              "      box-shadow: 0px 1px 2px rgba(60, 64, 67, 0.3), 0px 1px 3px 1px rgba(60, 64, 67, 0.15);\n",
              "      fill: #174EA6;\n",
              "    }\n",
              "\n",
              "    [theme=dark] .colab-df-convert {\n",
              "      background-color: #3B4455;\n",
              "      fill: #D2E3FC;\n",
              "    }\n",
              "\n",
              "    [theme=dark] .colab-df-convert:hover {\n",
              "      background-color: #434B5C;\n",
              "      box-shadow: 0px 1px 3px 1px rgba(0, 0, 0, 0.15);\n",
              "      filter: drop-shadow(0px 1px 2px rgba(0, 0, 0, 0.3));\n",
              "      fill: #FFFFFF;\n",
              "    }\n",
              "  </style>\n",
              "\n",
              "      <script>\n",
              "        const buttonEl =\n",
              "          document.querySelector('#df-f46b394b-8a4c-4910-90f0-120699c63460 button.colab-df-convert');\n",
              "        buttonEl.style.display =\n",
              "          google.colab.kernel.accessAllowed ? 'block' : 'none';\n",
              "\n",
              "        async function convertToInteractive(key) {\n",
              "          const element = document.querySelector('#df-f46b394b-8a4c-4910-90f0-120699c63460');\n",
              "          const dataTable =\n",
              "            await google.colab.kernel.invokeFunction('convertToInteractive',\n",
              "                                                     [key], {});\n",
              "          if (!dataTable) return;\n",
              "\n",
              "          const docLinkHtml = 'Like what you see? Visit the ' +\n",
              "            '<a target=\"_blank\" href=https://colab.research.google.com/notebooks/data_table.ipynb>data table notebook</a>'\n",
              "            + ' to learn more about interactive tables.';\n",
              "          element.innerHTML = '';\n",
              "          dataTable['output_type'] = 'display_data';\n",
              "          await google.colab.output.renderOutput(dataTable, element);\n",
              "          const docLink = document.createElement('div');\n",
              "          docLink.innerHTML = docLinkHtml;\n",
              "          element.appendChild(docLink);\n",
              "        }\n",
              "      </script>\n",
              "    </div>\n",
              "  </div>\n",
              "  "
            ]
          },
          "metadata": {},
          "execution_count": 52
        }
      ]
    },
    {
      "cell_type": "markdown",
      "source": [
        "_**Step 3.**_ *Assign x and y variables to independent x and y features.*"
      ],
      "metadata": {
        "id": "Cp_Lspn3uDkB"
      }
    },
    {
      "cell_type": "code",
      "source": [
        "X = wine_data.drop('quality', axis=1)\n",
        "y = wine_data['quality']"
      ],
      "metadata": {
        "id": "iWmTzeJBu1fy"
      },
      "execution_count": null,
      "outputs": []
    },
    {
      "cell_type": "code",
      "source": [
        "y.value_counts()"
      ],
      "metadata": {
        "colab": {
          "base_uri": "https://localhost:8080/"
        },
        "id": "JX4By1Q_ap1w",
        "outputId": "0da8d418-d675-4c5c-a43b-37f9c2673900"
      },
      "execution_count": null,
      "outputs": [
        {
          "output_type": "execute_result",
          "data": {
            "text/plain": [
              "5    681\n",
              "6    638\n",
              "7    199\n",
              "4     53\n",
              "8     18\n",
              "3     10\n",
              "Name: quality, dtype: int64"
            ]
          },
          "metadata": {},
          "execution_count": 54
        }
      ]
    },
    {
      "cell_type": "markdown",
      "source": [
        "***Observation***    \n",
        "\n",
        "*There is a class imbalance. \n",
        "This problem can be solved by applying **Synthetic Minority Oversampling Technique (SMOTE**)* "
      ],
      "metadata": {
        "id": "pqXmal6HFZiZ"
      }
    },
    {
      "cell_type": "markdown",
      "source": [
        "***Step 4.*** *Apply Synthetic Minority Oversampling Technique.*"
      ],
      "metadata": {
        "id": "uGxxrae2t7jC"
      }
    },
    {
      "cell_type": "code",
      "source": [
        "oversample = SMOTE(random_state=0)\n",
        "# transform the dataset\n",
        "X_sm, y_sm = oversample.fit_resample(X, y)"
      ],
      "metadata": {
        "id": "wyqUGJqUsLW5"
      },
      "execution_count": null,
      "outputs": []
    },
    {
      "cell_type": "code",
      "source": [
        "print(\"Before smote --> \", Counter(y))\n",
        "print(\"After smote  --> \", Counter(y_sm))\n",
        "X, y = X_sm, y_sm"
      ],
      "metadata": {
        "colab": {
          "base_uri": "https://localhost:8080/"
        },
        "id": "6HiAlKFuslng",
        "outputId": "459506b0-d13d-4ed9-e0d3-205325e1a49c"
      },
      "execution_count": null,
      "outputs": [
        {
          "output_type": "stream",
          "name": "stdout",
          "text": [
            "Before smote -->  Counter({5: 681, 6: 638, 7: 199, 4: 53, 8: 18, 3: 10})\n",
            "After smote  -->  Counter({5: 681, 6: 681, 7: 681, 4: 681, 8: 681, 3: 681})\n"
          ]
        }
      ]
    },
    {
      "cell_type": "markdown",
      "source": [
        "***Step 5.*** *Standardize the data.*"
      ],
      "metadata": {
        "id": "Yxv4nZ2NvvAx"
      }
    },
    {
      "cell_type": "code",
      "source": [
        "sc = StandardScaler()\n",
        "sc.fit(X)"
      ],
      "metadata": {
        "id": "MrkWwfNnoprf",
        "colab": {
          "base_uri": "https://localhost:8080/"
        },
        "outputId": "75dbbe28-0812-40a4-e179-49f5ca279636"
      },
      "execution_count": null,
      "outputs": [
        {
          "output_type": "execute_result",
          "data": {
            "text/plain": [
              "StandardScaler()"
            ]
          },
          "metadata": {},
          "execution_count": 57
        }
      ]
    },
    {
      "cell_type": "markdown",
      "source": [
        "***Step 6.*** *Split into testing and training datasets*"
      ],
      "metadata": {
        "id": "MCHY9yIRorBW"
      }
    },
    {
      "cell_type": "code",
      "source": [
        "X_train, X_test, y_train, y_test = train_test_split(X, y, test_size = 0.2, random_state = 0)"
      ],
      "metadata": {
        "id": "aSA9u9EWoSB-"
      },
      "execution_count": null,
      "outputs": []
    },
    {
      "cell_type": "markdown",
      "source": [
        "### **Feature selection using chi-square test**"
      ],
      "metadata": {
        "id": "dy7x6Bfb9Sdo"
      }
    },
    {
      "cell_type": "markdown",
      "source": [
        "***Step 7.*** *Check for null values.*"
      ],
      "metadata": {
        "id": "Ixt90CjcUOiA"
      }
    },
    {
      "cell_type": "code",
      "source": [
        "X_train.isnull().sum()"
      ],
      "metadata": {
        "id": "IIT_S7ZmP0BN",
        "colab": {
          "base_uri": "https://localhost:8080/"
        },
        "outputId": "818e3799-11cc-4238-cdd9-3eac0ddacf5e"
      },
      "execution_count": null,
      "outputs": [
        {
          "output_type": "execute_result",
          "data": {
            "text/plain": [
              "fixed acidity           0\n",
              "volatile acidity        0\n",
              "citric acid             0\n",
              "residual sugar          0\n",
              "chlorides               0\n",
              "free sulfur dioxide     0\n",
              "total sulfur dioxide    0\n",
              "density                 0\n",
              "pH                      0\n",
              "sulphates               0\n",
              "alcohol                 0\n",
              "dtype: int64"
            ]
          },
          "metadata": {},
          "execution_count": 59
        }
      ]
    },
    {
      "cell_type": "markdown",
      "source": [
        "***Step 8.*** *Use chi-square to get the \n",
        "f-score values and p-value*.  \n",
        "\n"
      ],
      "metadata": {
        "id": "5rVVzjDrURXf"
      }
    },
    {
      "cell_type": "code",
      "source": [
        "f_p_values = chi2(X_train, y_train)\n",
        "f_p_values"
      ],
      "metadata": {
        "colab": {
          "base_uri": "https://localhost:8080/"
        },
        "id": "F0k5Lu9WFehE",
        "outputId": "15cd6c16-a922-46e3-81b9-bf376156ed30"
      },
      "execution_count": null,
      "outputs": [
        {
          "output_type": "execute_result",
          "data": {
            "text/plain": [
              "(array([4.89892152e+01, 1.70108681e+02, 9.88479312e+01, 1.97225167e+01,\n",
              "        9.72293091e+00, 1.44041506e+03, 9.59030963e+03, 1.69332959e-03,\n",
              "        2.47791159e+00, 2.52838729e+01, 1.96025080e+02]),\n",
              " array([2.23054401e-009, 6.91694321e-035, 9.24330731e-020, 1.40875508e-003,\n",
              "        8.34774952e-002, 2.40602011e-309, 0.00000000e+000, 9.99999994e-001,\n",
              "        7.79817893e-001, 1.22803215e-004, 2.01191848e-040]))"
            ]
          },
          "metadata": {},
          "execution_count": 60
        }
      ]
    },
    {
      "cell_type": "code",
      "source": [
        "# change values\n",
        "data = pd.crosstab(wine_data['quality'], wine_data['chlorides'])\n",
        "# data = wine_data\n",
        "stat, p, dof, expected = chi2_contingency(data)\n",
        "\n",
        "alpha = 0.05\n",
        "print(\"p value is \" + str(p))\n",
        "if p <= alpha:\n",
        "  print(\"Dependent (reject H0) - There is no significant differences\")\n",
        "else:\n",
        "  print(\"Independent (H0 holds true) - There is significant differences\")"
      ],
      "metadata": {
        "colab": {
          "base_uri": "https://localhost:8080/"
        },
        "id": "SrrFep5a7nWo",
        "outputId": "4b99d9ac-35e5-4d25-a573-83eeb7355965"
      },
      "execution_count": null,
      "outputs": [
        {
          "output_type": "stream",
          "name": "stdout",
          "text": [
            "p value is 1.1813496192507552e-34\n",
            "Dependent (reject H0) - There is no significant differences\n"
          ]
        }
      ]
    },
    {
      "cell_type": "markdown",
      "source": [
        "***Step 9.*** *Order the p values to get the most important feature among the columns.*"
      ],
      "metadata": {
        "id": "9V1o1xpcU2Lu"
      }
    },
    {
      "cell_type": "code",
      "source": [
        "p_values = pd.Series(f_p_values[1])\n",
        "p_values.index = X_train.columns\n",
        "p_values.sort_index(ascending=True)"
      ],
      "metadata": {
        "id": "-CNHO59D9TtA",
        "colab": {
          "base_uri": "https://localhost:8080/"
        },
        "outputId": "6b5be0af-38a0-4257-ab54-0e098af26592"
      },
      "execution_count": null,
      "outputs": [
        {
          "output_type": "execute_result",
          "data": {
            "text/plain": [
              "alcohol                  2.011918e-40\n",
              "chlorides                8.347750e-02\n",
              "citric acid              9.243307e-20\n",
              "density                  1.000000e+00\n",
              "fixed acidity            2.230544e-09\n",
              "free sulfur dioxide     2.406020e-309\n",
              "pH                       7.798179e-01\n",
              "residual sugar           1.408755e-03\n",
              "sulphates                1.228032e-04\n",
              "total sulfur dioxide     0.000000e+00\n",
              "volatile acidity         6.916943e-35\n",
              "dtype: float64"
            ]
          },
          "metadata": {},
          "execution_count": 62
        }
      ]
    },
    {
      "cell_type": "markdown",
      "source": [
        "***Observation***  \n",
        "\n",
        "*Alcohol column is the most important among the other features.* "
      ],
      "metadata": {
        "id": "dARjp5yJTbjz"
      }
    },
    {
      "cell_type": "markdown",
      "source": [
        "### **Feature selection using Pearson Correlation**"
      ],
      "metadata": {
        "id": "4BcAX2ynZhC1"
      }
    },
    {
      "cell_type": "code",
      "source": [
        "plt.figure(figsize=(15, 5))\n",
        "sns.heatmap(wine_data.corr(), annot=True, cmap='RdBu')\n",
        "plt.show()"
      ],
      "metadata": {
        "id": "nRVAarRiguTl",
        "colab": {
          "base_uri": "https://localhost:8080/",
          "height": 420
        },
        "outputId": "2275f814-7d97-42a0-a3e6-44e223fca471"
      },
      "execution_count": null,
      "outputs": [
        {
          "output_type": "display_data",
          "data": {
            "text/plain": [
              "<Figure size 1080x360 with 2 Axes>"
            ],
            "image/png": "[encoded data removed]"
          },
          "metadata": {}
        }
      ]
    },
    {
      "cell_type": "markdown",
      "source": [
        "***Observation***    \n",
        "\n",
        "\n",
        "  *1.* *fixed acidity has high correlation(>0.66) with density and citric acid and a negative correlation(<-0.69) with pH.*  \n",
        "  *2.* *volatile acidity seems to have a negative effect on quality (-0.41).*  \n",
        "  *3.* *free sulfur dioxide is more if total sulfur dioxide is more and vice versa.*  \n",
        "  *4.* *alcohol is having influence on quality of wine.*  \n",
        "  *5.* *alcohol and density have a negative correlation (-0.49*)  \n",
        "  *6.* *pH, free and total sulfure dioxide, chlorides, residual sugar do not have high correlation on quality*\n",
        "  \n",
        "*Although correlation predicts that certain features(alcohol and pH) have a relationship with quality. The data does not establish a linear relationship between any of the features.*"
      ],
      "metadata": {
        "id": "HDl7aadxhqtx"
      }
    },
    {
      "cell_type": "markdown",
      "source": [
        "***Step 10.*** *Define a function for correlation.*"
      ],
      "metadata": {
        "id": "ao4CtNLfCxc1"
      }
    },
    {
      "cell_type": "code",
      "source": [
        "def correlation(dataset, threshold):\n",
        "  col_corr = set()                                 # set of all the names of correlated columns\n",
        "  corr_matrix = dataset.corr()\n",
        "  for i in range(len(corr_matrix.columns)):\n",
        "    for j in range(i):\n",
        "      if abs(corr_matrix.iloc[i, j]) > threshold:  # we are interested in absolute coefficient value\n",
        "        colname = corr_matrix.columns[i]           # getting the name of column/s\n",
        "        col_corr.add(colname)\n",
        "  return col_corr"
      ],
      "metadata": {
        "id": "YirHRru-ajhB"
      },
      "execution_count": null,
      "outputs": []
    },
    {
      "cell_type": "markdown",
      "source": [
        "***Step 11.*** *Use the features to see the correlated values.*"
      ],
      "metadata": {
        "id": "cosPgKCtC-wk"
      }
    },
    {
      "cell_type": "code",
      "source": [
        "# threshold : columns with .6 (could be any number) values. \n",
        "corr_features = correlation(X_train, .68)"
      ],
      "metadata": {
        "id": "dqBrEa5TjJ95"
      },
      "execution_count": null,
      "outputs": []
    },
    {
      "cell_type": "code",
      "source": [
        "print(f\"length: {len(set(corr_features))}\")\n",
        "print(f\"columns: {corr_features}\")"
      ],
      "metadata": {
        "id": "Vv04e3MZbboX",
        "colab": {
          "base_uri": "https://localhost:8080/"
        },
        "outputId": "7da04175-5bb5-4c56-eb45-614cd92a2a31"
      },
      "execution_count": null,
      "outputs": [
        {
          "output_type": "stream",
          "name": "stdout",
          "text": [
            "length: 3\n",
            "columns: {'pH', 'total sulfur dioxide', 'citric acid'}\n"
          ]
        }
      ]
    },
    {
      "cell_type": "markdown",
      "source": [
        "***Step 12.*** *Get the correlation of the two features.*"
      ],
      "metadata": {
        "id": "B2AuZATbDJa5"
      }
    },
    {
      "cell_type": "code",
      "source": [
        "# change values\n",
        "print(\"Pearson correlation coefficient:\", st.pearsonr(wine_data[\"alcohol\"],\n",
        "                                                      wine_data[\"quality\"]))"
      ],
      "metadata": {
        "colab": {
          "base_uri": "https://localhost:8080/"
        },
        "id": "l8oBq9pJeeh3",
        "outputId": "32c62b3d-c089-4b95-8bb4-7b1189fb00f6"
      },
      "execution_count": null,
      "outputs": [
        {
          "output_type": "stream",
          "name": "stdout",
          "text": [
            "Pearson correlation coefficient: (0.47616632400113607, 2.831476974778582e-91)\n"
          ]
        }
      ]
    },
    {
      "cell_type": "markdown",
      "source": [
        "***Step 13.*** *Drop the highest correlated features.*"
      ],
      "metadata": {
        "id": "yx7d92zXDOWw"
      }
    },
    {
      "cell_type": "code",
      "source": [
        "X_train.drop(corr_features, axis=1)\n",
        "X_test.drop(corr_features, axis=1)"
      ],
      "metadata": {
        "id": "9QPzXc9Kj5GE",
        "colab": {
          "base_uri": "https://localhost:8080/",
          "height": 424
        },
        "outputId": "190a2073-8779-4092-bf6d-abfc5595d731"
      },
      "execution_count": null,
      "outputs": [
        {
          "output_type": "execute_result",
          "data": {
            "text/plain": [
              "      fixed acidity  volatile acidity  residual sugar  chlorides  \\\n",
              "3226       6.962788          0.768954        2.644186   0.073674   \n",
              "2226       7.227617          1.240718        1.975872   0.112588   \n",
              "2506       9.079912          0.491213        2.270711   0.092456   \n",
              "1947      10.383605          0.639553        1.946584   0.122909   \n",
              "3238       5.105062          0.515483        2.084815   0.042067   \n",
              "...             ...               ...             ...        ...   \n",
              "4082      10.692979          0.349960        2.598195   0.069982   \n",
              "720        8.400000          0.560000        2.000000   0.082000   \n",
              "1423       6.400000          0.530000        3.900000   0.123000   \n",
              "2347       9.263164          0.606201        3.184893   0.079924   \n",
              "1269       5.500000          0.490000        1.800000   0.044000   \n",
              "\n",
              "      free sulfur dioxide   density  sulphates    alcohol  \n",
              "3226            17.000000  0.995723   0.848140  12.132559  \n",
              "2226             5.413758  0.995273   0.495164  10.506929  \n",
              "2506             6.292889  0.997030   0.537573  10.263600  \n",
              "1947            11.520494  0.999257   0.554795   9.202733  \n",
              "3238            15.949385  0.992400   0.869663  12.901687  \n",
              "...                   ...       ...        ...        ...  \n",
              "4082             4.995988  0.997198   0.650903  10.997994  \n",
              "720             10.000000  0.997600   0.440000   9.600000  \n",
              "1423            14.000000  0.996800   0.670000  11.000000  \n",
              "2347             6.000000  0.997607   0.540504   9.567050  \n",
              "1269            28.000000  0.990800   0.820000  14.000000  \n",
              "\n",
              "[818 rows x 8 columns]"
            ],
            "text/html": [
              "\n",
              "  <div id=\"df-eac28a03-80fa-4fba-9c79-2fb0d3934895\">\n",
              "    <div class=\"colab-df-container\">\n",
              "      <div>\n",
              "<style scoped>\n",
              "    .dataframe tbody tr th:only-of-type {\n",
              "        vertical-align: middle;\n",
              "    }\n",
              "\n",
              "    .dataframe tbody tr th {\n",
              "        vertical-align: top;\n",
              "    }\n",
              "\n",
              "    .dataframe thead th {\n",
              "        text-align: right;\n",
              "    }\n",
              "</style>\n",
              "<table border=\"1\" class=\"dataframe\">\n",
              "  <thead>\n",
              "    <tr style=\"text-align: right;\">\n",
              "      <th></th>\n",
              "      <th>fixed acidity</th>\n",
              "      <th>volatile acidity</th>\n",
              "      <th>residual sugar</th>\n",
              "      <th>chlorides</th>\n",
              "      <th>free sulfur dioxide</th>\n",
              "      <th>density</th>\n",
              "      <th>sulphates</th>\n",
              "      <th>alcohol</th>\n",
              "    </tr>\n",
              "  </thead>\n",
              "  <tbody>\n",
              "    <tr>\n",
              "      <th>3226</th>\n",
              "      <td>6.962788</td>\n",
              "      <td>0.768954</td>\n",
              "      <td>2.644186</td>\n",
              "      <td>0.073674</td>\n",
              "      <td>17.000000</td>\n",
              "      <td>0.995723</td>\n",
              "      <td>0.848140</td>\n",
              "      <td>12.132559</td>\n",
              "    </tr>\n",
              "    <tr>\n",
              "      <th>2226</th>\n",
              "      <td>7.227617</td>\n",
              "      <td>1.240718</td>\n",
              "      <td>1.975872</td>\n",
              "      <td>0.112588</td>\n",
              "      <td>5.413758</td>\n",
              "      <td>0.995273</td>\n",
              "      <td>0.495164</td>\n",
              "      <td>10.506929</td>\n",
              "    </tr>\n",
              "    <tr>\n",
              "      <th>2506</th>\n",
              "      <td>9.079912</td>\n",
              "      <td>0.491213</td>\n",
              "      <td>2.270711</td>\n",
              "      <td>0.092456</td>\n",
              "      <td>6.292889</td>\n",
              "      <td>0.997030</td>\n",
              "      <td>0.537573</td>\n",
              "      <td>10.263600</td>\n",
              "    </tr>\n",
              "    <tr>\n",
              "      <th>1947</th>\n",
              "      <td>10.383605</td>\n",
              "      <td>0.639553</td>\n",
              "      <td>1.946584</td>\n",
              "      <td>0.122909</td>\n",
              "      <td>11.520494</td>\n",
              "      <td>0.999257</td>\n",
              "      <td>0.554795</td>\n",
              "      <td>9.202733</td>\n",
              "    </tr>\n",
              "    <tr>\n",
              "      <th>3238</th>\n",
              "      <td>5.105062</td>\n",
              "      <td>0.515483</td>\n",
              "      <td>2.084815</td>\n",
              "      <td>0.042067</td>\n",
              "      <td>15.949385</td>\n",
              "      <td>0.992400</td>\n",
              "      <td>0.869663</td>\n",
              "      <td>12.901687</td>\n",
              "    </tr>\n",
              "    <tr>\n",
              "      <th>...</th>\n",
              "      <td>...</td>\n",
              "      <td>...</td>\n",
              "      <td>...</td>\n",
              "      <td>...</td>\n",
              "      <td>...</td>\n",
              "      <td>...</td>\n",
              "      <td>...</td>\n",
              "      <td>...</td>\n",
              "    </tr>\n",
              "    <tr>\n",
              "      <th>4082</th>\n",
              "      <td>10.692979</td>\n",
              "      <td>0.349960</td>\n",
              "      <td>2.598195</td>\n",
              "      <td>0.069982</td>\n",
              "      <td>4.995988</td>\n",
              "      <td>0.997198</td>\n",
              "      <td>0.650903</td>\n",
              "      <td>10.997994</td>\n",
              "    </tr>\n",
              "    <tr>\n",
              "      <th>720</th>\n",
              "      <td>8.400000</td>\n",
              "      <td>0.560000</td>\n",
              "      <td>2.000000</td>\n",
              "      <td>0.082000</td>\n",
              "      <td>10.000000</td>\n",
              "      <td>0.997600</td>\n",
              "      <td>0.440000</td>\n",
              "      <td>9.600000</td>\n",
              "    </tr>\n",
              "    <tr>\n",
              "      <th>1423</th>\n",
              "      <td>6.400000</td>\n",
              "      <td>0.530000</td>\n",
              "      <td>3.900000</td>\n",
              "      <td>0.123000</td>\n",
              "      <td>14.000000</td>\n",
              "      <td>0.996800</td>\n",
              "      <td>0.670000</td>\n",
              "      <td>11.000000</td>\n",
              "    </tr>\n",
              "    <tr>\n",
              "      <th>2347</th>\n",
              "      <td>9.263164</td>\n",
              "      <td>0.606201</td>\n",
              "      <td>3.184893</td>\n",
              "      <td>0.079924</td>\n",
              "      <td>6.000000</td>\n",
              "      <td>0.997607</td>\n",
              "      <td>0.540504</td>\n",
              "      <td>9.567050</td>\n",
              "    </tr>\n",
              "    <tr>\n",
              "      <th>1269</th>\n",
              "      <td>5.500000</td>\n",
              "      <td>0.490000</td>\n",
              "      <td>1.800000</td>\n",
              "      <td>0.044000</td>\n",
              "      <td>28.000000</td>\n",
              "      <td>0.990800</td>\n",
              "      <td>0.820000</td>\n",
              "      <td>14.000000</td>\n",
              "    </tr>\n",
              "  </tbody>\n",
              "</table>\n",
              "<p>818 rows × 8 columns</p>\n",
              "</div>\n",
              "      <button class=\"colab-df-convert\" onclick=\"convertToInteractive('df-eac28a03-80fa-4fba-9c79-2fb0d3934895')\"\n",
              "              title=\"Convert this dataframe to an interactive table.\"\n",
              "              style=\"display:none;\">\n",
              "        \n",
              "  <svg xmlns=\"http://www.w3.org/2000/svg\" height=\"24px\"viewBox=\"0 0 24 24\"\n",
              "       width=\"24px\">\n",
              "    <path d=\"M0 0h24v24H0V0z\" fill=\"none\"/>\n",
              "    <path d=\"M18.56 5.44l.94 2.06.94-2.06 2.06-.94-2.06-.94-.94-2.06-.94 2.06-2.06.94zm-11 1L8.5 8.5l.94-2.06 2.06-.94-2.06-.94L8.5 2.5l-.94 2.06-2.06.94zm10 10l.94 2.06.94-2.06 2.06-.94-2.06-.94-.94-2.06-.94 2.06-2.06.94z\"/><path d=\"M17.41 7.96l-1.37-1.37c-.4-.4-.92-.59-1.43-.59-.52 0-1.04.2-1.43.59L10.3 9.45l-7.72 7.72c-.78.78-.78 2.05 0 2.83L4 21.41c.39.39.9.59 1.41.59.51 0 1.02-.2 1.41-.59l7.78-7.78 2.81-2.81c.8-.78.8-2.07 0-2.86zM5.41 20L4 18.59l7.72-7.72 1.47 1.35L5.41 20z\"/>\n",
              "  </svg>\n",
              "      </button>\n",
              "      \n",
              "  <style>\n",
              "    .colab-df-container {\n",
              "      display:flex;\n",
              "      flex-wrap:wrap;\n",
              "      gap: 12px;\n",
              "    }\n",
              "\n",
              "    .colab-df-convert {\n",
              "      background-color: #E8F0FE;\n",
              "      border: none;\n",
              "      border-radius: 50%;\n",
              "      cursor: pointer;\n",
              "      display: none;\n",
              "      fill: #1967D2;\n",
              "      height: 32px;\n",
              "      padding: 0 0 0 0;\n",
              "      width: 32px;\n",
              "    }\n",
              "\n",
              "    .colab-df-convert:hover {\n",
              "      background-color: #E2EBFA;\n",
              "      box-shadow: 0px 1px 2px rgba(60, 64, 67, 0.3), 0px 1px 3px 1px rgba(60, 64, 67, 0.15);\n",
              "      fill: #174EA6;\n",
              "    }\n",
              "\n",
              "    [theme=dark] .colab-df-convert {\n",
              "      background-color: #3B4455;\n",
              "      fill: #D2E3FC;\n",
              "    }\n",
              "\n",
              "    [theme=dark] .colab-df-convert:hover {\n",
              "      background-color: #434B5C;\n",
              "      box-shadow: 0px 1px 3px 1px rgba(0, 0, 0, 0.15);\n",
              "      filter: drop-shadow(0px 1px 2px rgba(0, 0, 0, 0.3));\n",
              "      fill: #FFFFFF;\n",
              "    }\n",
              "  </style>\n",
              "\n",
              "      <script>\n",
              "        const buttonEl =\n",
              "          document.querySelector('#df-eac28a03-80fa-4fba-9c79-2fb0d3934895 button.colab-df-convert');\n",
              "        buttonEl.style.display =\n",
              "          google.colab.kernel.accessAllowed ? 'block' : 'none';\n",
              "\n",
              "        async function convertToInteractive(key) {\n",
              "          const element = document.querySelector('#df-eac28a03-80fa-4fba-9c79-2fb0d3934895');\n",
              "          const dataTable =\n",
              "            await google.colab.kernel.invokeFunction('convertToInteractive',\n",
              "                                                     [key], {});\n",
              "          if (!dataTable) return;\n",
              "\n",
              "          const docLinkHtml = 'Like what you see? Visit the ' +\n",
              "            '<a target=\"_blank\" href=https://colab.research.google.com/notebooks/data_table.ipynb>data table notebook</a>'\n",
              "            + ' to learn more about interactive tables.';\n",
              "          element.innerHTML = '';\n",
              "          dataTable['output_type'] = 'display_data';\n",
              "          await google.colab.output.renderOutput(dataTable, element);\n",
              "          const docLink = document.createElement('div');\n",
              "          docLink.innerHTML = docLinkHtml;\n",
              "          element.appendChild(docLink);\n",
              "        }\n",
              "      </script>\n",
              "    </div>\n",
              "  </div>\n",
              "  "
            ]
          },
          "metadata": {},
          "execution_count": 68
        }
      ]
    },
    {
      "cell_type": "markdown",
      "source": [
        "### **T-test**"
      ],
      "metadata": {
        "id": "aBGMZ5MKj6wm"
      }
    },
    {
      "cell_type": "markdown",
      "source": [
        "***Step 14.*** *Output the p values*"
      ],
      "metadata": {
        "id": "IDlS1XZiDSlV"
      }
    },
    {
      "cell_type": "code",
      "source": [
        "_, p_value = st.ttest_ind(X, y, equal_var = True)\n",
        "for i in p_value: print(i)"
      ],
      "metadata": {
        "colab": {
          "base_uri": "https://localhost:8080/"
        },
        "id": "sY9BxV6W4ocT",
        "outputId": "41723045-361b-4f04-c411-e9e3963efd76"
      },
      "execution_count": null,
      "outputs": [
        {
          "output_type": "stream",
          "name": "stdout",
          "text": [
            "0.0\n",
            "0.0\n",
            "0.0\n",
            "0.0\n",
            "0.0\n",
            "0.0\n",
            "0.0\n",
            "0.0\n",
            "0.0\n",
            "0.0\n",
            "0.0\n"
          ]
        }
      ]
    },
    {
      "cell_type": "code",
      "source": [
        "t2 = st.ttest_ind(X, y, equal_var = True)\n",
        "print(t2)"
      ],
      "metadata": {
        "colab": {
          "base_uri": "https://localhost:8080/"
        },
        "id": "U7e-65ORIOCg",
        "outputId": "f67640d4-7eab-4457-ea8c-32fa630be341"
      },
      "execution_count": null,
      "outputs": [
        {
          "output_type": "stream",
          "name": "stdout",
          "text": [
            "Ttest_indResult(statistic=array([  77.649041  , -182.26740763, -194.14916657,  -88.08935951,\n",
            "       -202.41999308,   51.14428067,   70.63155999, -168.53815212,\n",
            "        -81.00540682, -180.32704592,  161.08041062]), pvalue=array([0., 0., 0., 0., 0., 0., 0., 0., 0., 0., 0.]))\n"
          ]
        }
      ]
    },
    {
      "cell_type": "markdown",
      "source": [
        "## **Regression**\n",
        "\n"
      ],
      "metadata": {
        "id": "k5k8fGRJ2sjm"
      }
    },
    {
      "cell_type": "markdown",
      "source": [
        "**Regression model with cross validation**"
      ],
      "metadata": {
        "id": "IgBNR2SKELiH"
      }
    },
    {
      "cell_type": "markdown",
      "source": [
        "***Step 15.*** *Create a function for experiments. This function has different\n",
        "k-values for cross validation, and it also outputs other metrics.* "
      ],
      "metadata": {
        "id": "mm0iRI9tDZLr"
      }
    },
    {
      "cell_type": "code",
      "source": [
        "def reg_cross_val(model, X, y):\n",
        "    # for cross validation\n",
        "    K_value = [5, 10, 15, 20]\n",
        "\n",
        "    # 80:20 split ratio\n",
        "    X_train, X_test, y_train, y_test = train_test_split(X, y, test_size = 0.3, random_state = 0)\n",
        "    # train the model\n",
        "    model.fit(X_train, y_train) \n",
        "    # predict the model\n",
        "    y_pred = model.predict(X_test)\n",
        "    scores, pvalues = chi2(X_train, y_train) \n",
        "\n",
        "    print(\"Regression with Cross Validation\\n\")\n",
        "\n",
        "    for i in range(len(K_value)):\n",
        "      score = cross_val_score(model, X, y, cv = K_value[i], scoring  = \"neg_mean_squared_error\")\n",
        "      print(f\"K value ({K_value[i]}):\", score.mean())\n",
        "\n",
        "    # Mean value of the  predicted model vs the actual value               \n",
        "    print(\"\\nVariance    :\", np.mean(y_pred-y_test))\n",
        "    # Score of the testing model\n",
        "    print(\"R2 score    :\", r2_score(y_test, y_pred) * 100)\n",
        "    # MSE / RMSE \n",
        "    print('RMSE\\t    :', (mean_squared_error(y_test, y_pred)))\n",
        "    # P-value\n",
        "    print('P-value\\t    :', np.mean(pvalues))"
      ],
      "metadata": {
        "id": "r-viv8cM2ZlF"
      },
      "execution_count": 92,
      "outputs": []
    },
    {
      "cell_type": "markdown",
      "source": [
        "**Regression model without cross validation:**\n",
        "\n",
        "Modify parameters:  \n",
        "   Split ratio : 70:30 & 80:20  \n",
        "   Random state: 0, 10, 20, 30 etc."
      ],
      "metadata": {
        "id": "Rivh1nKqENzv"
      }
    },
    {
      "cell_type": "markdown",
      "source": [
        "***Step 16.*** *Create another function for another experiment where cross validation is not applied.*"
      ],
      "metadata": {
        "id": "fHvojxZbDnOT"
      }
    },
    {
      "cell_type": "code",
      "source": [
        "def reg_no_cv(model, X, y):\n",
        "    # different random state values\n",
        "    r_state = [0, 10, 20, 30, 40, 50]\n",
        "    parameters={'alpha': [1, 2, 5, 10, 20, 30, 40, 50, 60, 70, 80, 90]}\n",
        "\n",
        "    print(\"Regression without Cross Validation\\n\")\n",
        "    if (model == ridge) or (model == lasso):\n",
        "      print(model)\n",
        "      for i in range(len(r_state)):\n",
        "        X_train, X_test, y_train, y_test = train_test_split(X, y, test_size = 0.2, random_state = r_state[i])\n",
        "        modelcv = GridSearchCV(ridge, parameters, scoring='neg_mean_squared_error',cv=5)\n",
        "        modelcv.fit(X_train, y_train)\n",
        "        y_pred = modelcv.predict(X_test)\n",
        "\n",
        "        data = {'Random State': r_state[i], \n",
        "                'Variance': np.mean(y_pred-y_test), \n",
        "                'R2 Score': round(r2_score(y_test, y_pred) * 100, 3),  \n",
        "                'Best params': modelcv.best_params_,\n",
        "                'Best score': modelcv.best_score_}\n",
        "\n",
        "        print(' | '.join(f'{key}: {value}' for key, value in data.items()))\n",
        "\n",
        "    elif (model == linear):\n",
        "      print(model)\n",
        "      print(\"70:30 Split Ratio\")\n",
        "      for i in range(len(r_state)):\n",
        "        X_train, X_test, y_train, y_test = train_test_split(X, y, test_size = 0.3, random_state = r_state[i])\n",
        "        model.fit(X_train, y_train)\n",
        "        y_pred = model.predict(X_test)\n",
        "\n",
        "        data = {'Random State': r_state[i], \n",
        "                'Variance': np.mean(y_pred-y_test), \n",
        "                'R2 Score': round(r2_score(y_test, y_pred) * 100, 3),\n",
        "                'Random': r_state[i]}\n",
        "\n",
        "        print(' | '.join(f'{key}: {value}' for key, value in data.items()))\n",
        "\n",
        "      print(\"\\n80:20 Split Ratio\")\n",
        "      for i in range(len(r_state)):\n",
        "        \n",
        "        X_train, X_test, y_train, y_test = train_test_split(X, y, test_size = 0.2, random_state = r_state[i])\n",
        "        model.fit(X_train, y_train)\n",
        "        y_pred = model.predict(X_test)\n",
        "\n",
        "        data = {'Random State': r_state[i], \n",
        "                'Variance': np.mean(y_pred-y_test), \n",
        "                'R2 Score': round(r2_score(y_test, y_pred) * 100, 3),\n",
        "                'Random': r_state[i]}\n",
        "\n",
        "        print(' | '.join(f'{key}: {value}' for key, value in data.items()))"
      ],
      "metadata": {
        "id": "iXYoPcGW80ju"
      },
      "execution_count": null,
      "outputs": []
    },
    {
      "cell_type": "markdown",
      "source": [
        "### **Linear Regression**"
      ],
      "metadata": {
        "id": "Qqrp-0H6vzeT"
      }
    },
    {
      "cell_type": "markdown",
      "source": [
        "***Step 17.*** *Call the function created above to get the results.*"
      ],
      "metadata": {
        "id": "uOLq__ixDxiz"
      }
    },
    {
      "cell_type": "code",
      "source": [
        "# linear regression with cross validation\n",
        "linear = LinearRegression()\n",
        "reg_cross_val(linear, X, y)"
      ],
      "metadata": {
        "colab": {
          "base_uri": "https://localhost:8080/"
        },
        "id": "NJv096zGujIC",
        "outputId": "b6195645-8593-4629-8bd1-6a9b0ced4bb3"
      },
      "execution_count": null,
      "outputs": [
        {
          "output_type": "stream",
          "name": "stdout",
          "text": [
            "Regression with Cross Validation\n",
            "\n",
            "K value (5): -1.2813583355035003\n",
            "K value (10): -0.9542822122464829\n",
            "K value (15): -0.8952927563683072\n",
            "K value (20): -0.8747020483811114\n",
            "\n",
            "Variance    : -0.00883570590288114\n",
            "R2 score    : 71.00735401981072\n",
            "RMSE\t    : 0.8169696805745877\n",
            "P-value\t    : 0.16952972207059766\n"
          ]
        }
      ]
    },
    {
      "cell_type": "code",
      "source": [
        "reg_no_cv(model=linear, X=X, y=y)"
      ],
      "metadata": {
        "colab": {
          "base_uri": "https://localhost:8080/"
        },
        "id": "Ji8jyMd7-_tZ",
        "outputId": "0666a468-c18e-435a-fca9-f991b26b62c6"
      },
      "execution_count": null,
      "outputs": [
        {
          "output_type": "stream",
          "name": "stdout",
          "text": [
            "Regression without Cross Validation\n",
            "\n",
            "LinearRegression()\n",
            "70:30 Split Ratio\n",
            "Random State: 0 | Variance: -0.017848523850719108 | R2 Score: 71.797 | Random: 0\n",
            "Random State: 10 | Variance: -0.00797074301427463 | R2 Score: 73.226 | Random: 10\n",
            "Random State: 20 | Variance: -0.012693382866194232 | R2 Score: 70.015 | Random: 20\n",
            "Random State: 30 | Variance: 0.047519030132215576 | R2 Score: 71.716 | Random: 30\n",
            "Random State: 40 | Variance: -0.006856645906512523 | R2 Score: 72.953 | Random: 40\n",
            "Random State: 50 | Variance: -0.009224523176412184 | R2 Score: 73.195 | Random: 50\n",
            "\n",
            "80:20 Split Ratio\n",
            "Random State: 0 | Variance: -0.00883570590288114 | R2 Score: 71.007 | Random: 0\n",
            "Random State: 10 | Variance: -0.03763973811638261 | R2 Score: 72.946 | Random: 10\n",
            "Random State: 20 | Variance: 0.010927092640207931 | R2 Score: 68.31 | Random: 20\n",
            "Random State: 30 | Variance: 0.09079208328585714 | R2 Score: 72.568 | Random: 30\n",
            "Random State: 40 | Variance: 0.009113992017092332 | R2 Score: 74.188 | Random: 40\n",
            "Random State: 50 | Variance: -0.017155856968267894 | R2 Score: 74.015 | Random: 50\n"
          ]
        }
      ]
    },
    {
      "cell_type": "code",
      "source": [
        "model = sm.OLS(y, X).fit()\n",
        "model.summary()"
      ],
      "metadata": {
        "colab": {
          "base_uri": "https://localhost:8080/",
          "height": 684
        },
        "id": "rVjKxxnszGPF",
        "outputId": "cd276a2a-f0a9-4027-aa24-7fb8c66d0678"
      },
      "execution_count": 87,
      "outputs": [
        {
          "output_type": "execute_result",
          "data": {
            "text/plain": [
              "<class 'statsmodels.iolib.summary.Summary'>\n",
              "\"\"\"\n",
              "                                 OLS Regression Results                                \n",
              "=======================================================================================\n",
              "Dep. Variable:                quality   R-squared (uncentered):                   0.976\n",
              "Model:                            OLS   Adj. R-squared (uncentered):              0.976\n",
              "Method:                 Least Squares   F-statistic:                          1.517e+04\n",
              "Date:                Sat, 22 Oct 2022   Prob (F-statistic):                        0.00\n",
              "Time:                        13:51:52   Log-Likelihood:                         -5318.4\n",
              "No. Observations:                4086   AIC:                                  1.066e+04\n",
              "Df Residuals:                    4075   BIC:                                  1.073e+04\n",
              "Df Model:                          11                                                  \n",
              "Covariance Type:            nonrobust                                                  \n",
              "========================================================================================\n",
              "                           coef    std err          t      P>|t|      [0.025      0.975]\n",
              "----------------------------------------------------------------------------------------\n",
              "fixed acidity           -0.1093      0.016     -6.712      0.000      -0.141      -0.077\n",
              "volatile acidity        -2.3626      0.094    -25.057      0.000      -2.547      -2.178\n",
              "citric acid             -0.0442      0.146     -0.303      0.762      -0.330       0.241\n",
              "residual sugar          -0.0748      0.012     -6.383      0.000      -0.098      -0.052\n",
              "chlorides               -7.0307      0.391    -17.988      0.000      -7.797      -6.264\n",
              "free sulfur dioxide      0.0035      0.002      1.595      0.111      -0.001       0.008\n",
              "total sulfur dioxide    -0.0008      0.001     -0.995      0.320      -0.002       0.001\n",
              "density                 10.7408      0.590     18.195      0.000       9.583      11.898\n",
              "pH                      -3.2002      0.153    -20.929      0.000      -3.500      -2.900\n",
              "sulphates                1.7287      0.113     15.365      0.000       1.508       1.949\n",
              "alcohol                  0.6907      0.015     45.872      0.000       0.661       0.720\n",
              "==============================================================================\n",
              "Omnibus:                        3.331   Durbin-Watson:                   1.228\n",
              "Prob(Omnibus):                  0.189   Jarque-Bera (JB):                3.363\n",
              "Skew:                          -0.069   Prob(JB):                        0.186\n",
              "Kurtosis:                       2.970   Cond. No.                     2.22e+03\n",
              "==============================================================================\n",
              "\n",
              "Notes:\n",
              "[1] R² is computed without centering (uncentered) since the model does not contain a constant.\n",
              "[2] Standard Errors assume that the covariance matrix of the errors is correctly specified.\n",
              "[3] The condition number is large, 2.22e+03. This might indicate that there are\n",
              "strong multicollinearity or other numerical problems.\n",
              "\"\"\""
            ],
            "text/html": [
              "<table class=\"simpletable\">\n",
              "<caption>OLS Regression Results</caption>\n",
              "<tr>\n",
              "  <th>Dep. Variable:</th>         <td>quality</td>     <th>  R-squared (uncentered):</th>      <td>   0.976</td> \n",
              "</tr>\n",
              "<tr>\n",
              "  <th>Model:</th>                   <td>OLS</td>       <th>  Adj. R-squared (uncentered):</th> <td>   0.976</td> \n",
              "</tr>\n",
              "<tr>\n",
              "  <th>Method:</th>             <td>Least Squares</td>  <th>  F-statistic:       </th>          <td>1.517e+04</td>\n",
              "</tr>\n",
              "<tr>\n",
              "  <th>Date:</th>             <td>Sat, 22 Oct 2022</td> <th>  Prob (F-statistic):</th>           <td>  0.00</td>  \n",
              "</tr>\n",
              "<tr>\n",
              "  <th>Time:</th>                 <td>13:51:52</td>     <th>  Log-Likelihood:    </th>          <td> -5318.4</td> \n",
              "</tr>\n",
              "<tr>\n",
              "  <th>No. Observations:</th>      <td>  4086</td>      <th>  AIC:               </th>          <td>1.066e+04</td>\n",
              "</tr>\n",
              "<tr>\n",
              "  <th>Df Residuals:</th>          <td>  4075</td>      <th>  BIC:               </th>          <td>1.073e+04</td>\n",
              "</tr>\n",
              "<tr>\n",
              "  <th>Df Model:</th>              <td>    11</td>      <th>                     </th>              <td> </td>    \n",
              "</tr>\n",
              "<tr>\n",
              "  <th>Covariance Type:</th>      <td>nonrobust</td>    <th>                     </th>              <td> </td>    \n",
              "</tr>\n",
              "</table>\n",
              "<table class=\"simpletable\">\n",
              "<tr>\n",
              "            <td></td>              <th>coef</th>     <th>std err</th>      <th>t</th>      <th>P>|t|</th>  <th>[0.025</th>    <th>0.975]</th>  \n",
              "</tr>\n",
              "<tr>\n",
              "  <th>fixed acidity</th>        <td>   -0.1093</td> <td>    0.016</td> <td>   -6.712</td> <td> 0.000</td> <td>   -0.141</td> <td>   -0.077</td>\n",
              "</tr>\n",
              "<tr>\n",
              "  <th>volatile acidity</th>     <td>   -2.3626</td> <td>    0.094</td> <td>  -25.057</td> <td> 0.000</td> <td>   -2.547</td> <td>   -2.178</td>\n",
              "</tr>\n",
              "<tr>\n",
              "  <th>citric acid</th>          <td>   -0.0442</td> <td>    0.146</td> <td>   -0.303</td> <td> 0.762</td> <td>   -0.330</td> <td>    0.241</td>\n",
              "</tr>\n",
              "<tr>\n",
              "  <th>residual sugar</th>       <td>   -0.0748</td> <td>    0.012</td> <td>   -6.383</td> <td> 0.000</td> <td>   -0.098</td> <td>   -0.052</td>\n",
              "</tr>\n",
              "<tr>\n",
              "  <th>chlorides</th>            <td>   -7.0307</td> <td>    0.391</td> <td>  -17.988</td> <td> 0.000</td> <td>   -7.797</td> <td>   -6.264</td>\n",
              "</tr>\n",
              "<tr>\n",
              "  <th>free sulfur dioxide</th>  <td>    0.0035</td> <td>    0.002</td> <td>    1.595</td> <td> 0.111</td> <td>   -0.001</td> <td>    0.008</td>\n",
              "</tr>\n",
              "<tr>\n",
              "  <th>total sulfur dioxide</th> <td>   -0.0008</td> <td>    0.001</td> <td>   -0.995</td> <td> 0.320</td> <td>   -0.002</td> <td>    0.001</td>\n",
              "</tr>\n",
              "<tr>\n",
              "  <th>density</th>              <td>   10.7408</td> <td>    0.590</td> <td>   18.195</td> <td> 0.000</td> <td>    9.583</td> <td>   11.898</td>\n",
              "</tr>\n",
              "<tr>\n",
              "  <th>pH</th>                   <td>   -3.2002</td> <td>    0.153</td> <td>  -20.929</td> <td> 0.000</td> <td>   -3.500</td> <td>   -2.900</td>\n",
              "</tr>\n",
              "<tr>\n",
              "  <th>sulphates</th>            <td>    1.7287</td> <td>    0.113</td> <td>   15.365</td> <td> 0.000</td> <td>    1.508</td> <td>    1.949</td>\n",
              "</tr>\n",
              "<tr>\n",
              "  <th>alcohol</th>              <td>    0.6907</td> <td>    0.015</td> <td>   45.872</td> <td> 0.000</td> <td>    0.661</td> <td>    0.720</td>\n",
              "</tr>\n",
              "</table>\n",
              "<table class=\"simpletable\">\n",
              "<tr>\n",
              "  <th>Omnibus:</th>       <td> 3.331</td> <th>  Durbin-Watson:     </th> <td>   1.228</td>\n",
              "</tr>\n",
              "<tr>\n",
              "  <th>Prob(Omnibus):</th> <td> 0.189</td> <th>  Jarque-Bera (JB):  </th> <td>   3.363</td>\n",
              "</tr>\n",
              "<tr>\n",
              "  <th>Skew:</th>          <td>-0.069</td> <th>  Prob(JB):          </th> <td>   0.186</td>\n",
              "</tr>\n",
              "<tr>\n",
              "  <th>Kurtosis:</th>      <td> 2.970</td> <th>  Cond. No.          </th> <td>2.22e+03</td>\n",
              "</tr>\n",
              "</table><br/><br/>Notes:<br/>[1] R² is computed without centering (uncentered) since the model does not contain a constant.<br/>[2] Standard Errors assume that the covariance matrix of the errors is correctly specified.<br/>[3] The condition number is large, 2.22e+03. This might indicate that there are<br/>strong multicollinearity or other numerical problems."
            ]
          },
          "metadata": {},
          "execution_count": 87
        }
      ]
    },
    {
      "cell_type": "markdown",
      "source": [
        "**Analysis:** \n",
        "\n",
        "*Comparing the results of the testing model with the training model, there is an **OVERFITTING** issue. The training model got a whopping percentage of 97.6% compared to its testing model that only got 71.01%. There is a need to optimize the error by implementing RIDGE or LASSO Regression.*"
      ],
      "metadata": {
        "id": "oUUCYiWWrCDy"
      }
    },
    {
      "cell_type": "markdown",
      "source": [
        "### **Ridge Regression**"
      ],
      "metadata": {
        "id": "zeNf2TqeP0YA"
      }
    },
    {
      "cell_type": "code",
      "source": [
        "ridge = Ridge(solver = \"cholesky\")\n",
        "reg_cross_val(ridge, X, y)"
      ],
      "metadata": {
        "colab": {
          "base_uri": "https://localhost:8080/"
        },
        "id": "3tNub6bny8eH",
        "outputId": "79cae50e-1158-423e-eb72-3e15e06dc1e1"
      },
      "execution_count": 89,
      "outputs": [
        {
          "output_type": "stream",
          "name": "stdout",
          "text": [
            "Regression with Cross Validation\n",
            "\n",
            "K value (5): -1.2957827039600534\n",
            "K value (10): -0.9562469446780206\n",
            "K value (15): -0.896125631160498\n",
            "K value (20): -0.8755018569495517\n",
            "\n",
            "Variance    : -0.02040574447233361\n",
            "R2 score    : 71.62520541743145\n",
            "RMSE\t    : 0.8050175367162956\n",
            "P-value\t    : 0.17808351185090052\n"
          ]
        }
      ]
    },
    {
      "cell_type": "code",
      "source": [
        "reg_no_cv(ridge, X, y)"
      ],
      "metadata": {
        "colab": {
          "base_uri": "https://localhost:8080/"
        },
        "id": "QaJgdS2mA_yl",
        "outputId": "62e8863c-bddb-4083-989f-23b66b55e20d"
      },
      "execution_count": null,
      "outputs": [
        {
          "output_type": "stream",
          "name": "stdout",
          "text": [
            "Regression without Cross Validation\n",
            "\n",
            "Ridge(solver='cholesky')\n",
            "Random State: 0 | Variance: -0.01055288639904702 | R2 Score: 71.051 | Best params: {'alpha': 1} | Best score: -0.8024581064169448\n",
            "Random State: 10 | Variance: -0.03336946900675225 | R2 Score: 72.987 | Best params: {'alpha': 1} | Best score: -0.8076958043147249\n",
            "Random State: 20 | Variance: 0.008371624503801047 | R2 Score: 68.306 | Best params: {'alpha': 1} | Best score: -0.7845481121841361\n",
            "Random State: 30 | Variance: 0.0943403696266757 | R2 Score: 72.54 | Best params: {'alpha': 1} | Best score: -0.8035652846319458\n",
            "Random State: 40 | Variance: 0.006070257750843431 | R2 Score: 74.152 | Best params: {'alpha': 1} | Best score: -0.8052322377038521\n",
            "Random State: 50 | Variance: -0.01759568710732042 | R2 Score: 73.752 | Best params: {'alpha': 1} | Best score: -0.8034443209191824\n"
          ]
        }
      ]
    },
    {
      "cell_type": "markdown",
      "source": [
        "### **Lasso Regression**"
      ],
      "metadata": {
        "id": "W7nbAtWJSURY"
      }
    },
    {
      "cell_type": "code",
      "source": [
        "lasso = Lasso()\n",
        "reg_cross_val(lasso, X, y)"
      ],
      "metadata": {
        "colab": {
          "base_uri": "https://localhost:8080/"
        },
        "id": "IU2sYvYcCIkH",
        "outputId": "9a949867-f86a-4a65-90a4-fda73eee70dd"
      },
      "execution_count": 93,
      "outputs": [
        {
          "output_type": "stream",
          "name": "stdout",
          "text": [
            "Regression with Cross Validation\n",
            "\n",
            "K value (5): -4.1218364440087445\n",
            "K value (10): -3.2641343648151824\n",
            "K value (15): -2.9658716486934287\n",
            "K value (20): -2.840476050506034\n",
            "\n",
            "Variance    : -0.11616407742315932\n",
            "R2 score    : 14.838012321755766\n",
            "RMSE\t    : 2.4161194662787144\n",
            "P-value\t    : 0.17808351185090052\n"
          ]
        }
      ]
    },
    {
      "cell_type": "code",
      "source": [
        "reg_no_cv(lasso, X, y)"
      ],
      "metadata": {
        "colab": {
          "base_uri": "https://localhost:8080/"
        },
        "id": "q_KjvugCCOR_",
        "outputId": "b2f07caa-0159-41d4-876e-a6a3d6d2a17f"
      },
      "execution_count": null,
      "outputs": [
        {
          "output_type": "stream",
          "name": "stdout",
          "text": [
            "Regression without Cross Validation\n",
            "\n",
            "Lasso()\n",
            "Random State: 0 | Variance: -0.01055288639904702 | R2 Score: 71.051 | Best params: {'alpha': 1} | Best score: -0.8024581064169448\n",
            "Random State: 10 | Variance: -0.03336946900675225 | R2 Score: 72.987 | Best params: {'alpha': 1} | Best score: -0.8076958043147249\n",
            "Random State: 20 | Variance: 0.008371624503801047 | R2 Score: 68.306 | Best params: {'alpha': 1} | Best score: -0.7845481121841361\n",
            "Random State: 30 | Variance: 0.0943403696266757 | R2 Score: 72.54 | Best params: {'alpha': 1} | Best score: -0.8035652846319458\n",
            "Random State: 40 | Variance: 0.006070257750843431 | R2 Score: 74.152 | Best params: {'alpha': 1} | Best score: -0.8052322377038521\n",
            "Random State: 50 | Variance: -0.01759568710732042 | R2 Score: 73.752 | Best params: {'alpha': 1} | Best score: -0.8034443209191824\n"
          ]
        }
      ]
    },
    {
      "cell_type": "markdown",
      "source": [
        "Linear: 71.0  \n",
        "Ridge: 71.05  \n",
        "Lasso: 15"
      ],
      "metadata": {
        "id": "zVx0tmGF9-Y0"
      }
    }
  ]
}